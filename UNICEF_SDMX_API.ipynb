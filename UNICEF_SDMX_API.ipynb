{
 "cells": [
  {
   "cell_type": "markdown",
   "metadata": {},
   "source": [
    "# **UNICEF Indicator Data Warehouse** - SDMX REST Web Service"
   ]
  },
  {
   "cell_type": "code",
   "execution_count": 2,
   "metadata": {},
   "outputs": [],
   "source": [
    "# import necessary libraries \n",
    "import requests"
   ]
  },
  {
   "cell_type": "markdown",
   "metadata": {},
   "source": [
    "Connecting to the UNICEFs data warehouse using the SDMX standard"
   ]
  },
  {
   "cell_type": "code",
   "execution_count": 3,
   "metadata": {},
   "outputs": [],
   "source": [
    "endpoint = \"https://sdmx.data.unicef.org/ws/public/sdmxapi/rest\""
   ]
  },
  {
   "cell_type": "markdown",
   "metadata": {},
   "source": [
    "### 1. step: select a dataflow\n",
    "\n",
    "Dataflows contain a set of data within a common structure. So I use the API to get a list of all those dataflows first. \n",
    "\n",
    "This requires adding the following to the endpoint and providing the parameters for ```format```, ```detail``` and ```reference```. I chose to get the data in the **JSON format**, with **full detail** and **no references**. "
   ]
  },
  {
   "cell_type": "code",
   "execution_count": 4,
   "metadata": {},
   "outputs": [],
   "source": [
    "dataflow_endpoint = \"/dataflow/all/all/latest\"\n",
    "dataflow_params = {\n",
    "    \"format\": \"sdmx-json\",\n",
    "    \"detail\": \"full\",\n",
    "    \"reference\": \"none\",\n",
    "}"
   ]
  },
  {
   "cell_type": "code",
   "execution_count": 12,
   "metadata": {},
   "outputs": [
    {
     "name": "stdout",
     "output_type": "stream",
     "text": [
      "200\n",
      "name: Brazil Country Office - id: BRAZIL_CO\n",
      "name: Brazil SELO - id: BRAZIL_CO_SELO\n",
      "name: CAP 2030 - id: CAP2030\n",
      "name: Coundown 2030 - id: CD2030\n",
      "name: Countdown - coverage indicators - id: CDCOV\n",
      "name: Countdown - demographic indicators - id: CDDEM\n",
      "name: Countdown - drivers indicators - id: CDDRIVER\n",
      "name: Countdown - coverage - equiplot data - id: CDEQUIPLOT\n",
      "name: Countdown - tier 2 indicators - id: CDT2\n",
      "name: CD2030 All - id: CONSOLIDATED\n",
      "name: EAPRO Cross Sector Indicators - id: DF_EAPRO_CROSS_SECTOR\n",
      "name: ECARO for TransMonEE - id: TRANSMONEE\n",
      "name: SDG Country Global Dataflow - id: DF_SDG_GLC\n",
      "name: SDG Harmonized Global Dataflow - id: DF_SDG_GLH\n",
      "name: MENARO Education - id: EDU\n",
      "name: UNICEF Middle East and North Africa - id: MENARO\n",
      "name: Paraguay - id: PARAGUAY\n",
      "name: Pakistan Survey Data - id: PAKISTAN_CO\n",
      "name: Children’s Rights and Business Atlas - id: CRBA\n",
      "name: UNICEF South Asia - id: ROSA\n",
      "name: UNESCO UIS Education - id: UIS_EDU\n",
      "name: Education: Students and Teachers - id: EDU_NON_FINANCE\n",
      "name: Sustainable Development Goal 4 - id: SDG4\n",
      "name: UNESCO UIS - id: UIS\n",
      "name: Cause of death - id: CAUSE_OF_DEATH\n",
      "name: Children’s Climate and Environment Risk Index - id: CCRI\n",
      "name: Child-related SDGs 2020 - id: CHILD_RELATED_SDG\n",
      "name: Child Poverty - id: CHLD_PVTY\n",
      "name: Child Mortality - id: CME\n",
      "name: CME Cause of death - id: CME_CAUSE_OF_DEATH\n",
      "name: CME Country profiles data - id: CME_COUNTRY_PROFILES_DATA\n",
      "name: IGME Child Mortality Estimates wq - id: CME_DF_2021_WQ\n",
      "name: CME Burundi - id: CME_SUBNAT_BDI\n",
      "name: CME Benin - id: CME_SUBNAT_BEN\n",
      "name: CME Ethiopia - id: CME_SUBNAT_ETH\n",
      "name: CME Ghana - id: CME_SUBNAT_GHA\n",
      "name: CME Kenya - id: CME_SUBNAT_KEN\n",
      "name: CME Liberia - id: CME_SUBNAT_LBR\n",
      "name: CME Lesotho - id: CME_SUBNAT_LSO\n",
      "name: CME Mali - id: CME_SUBNAT_MLI\n",
      "name: CME Myanmar - id: CME_SUBNAT_MMR\n",
      "name: CME Malawi - id: CME_SUBNAT_MWI\n",
      "name: CME Namibia - id: CME_SUBNAT_NAM\n",
      "name: CME Nigeria - id: CME_SUBNAT_NGA\n",
      "name: CME Nepal - id: CME_SUBNAT_NPL\n",
      "name: CME Pakistan - id: CME_SUBNAT_PAK\n",
      "name: CME Rwanda - id: CME_SUBNAT_RWA\n",
      "name: CME Senegal - id: CME_SUBNAT_SEN\n",
      "name: CME Sierra Leone - id: CME_SUBNAT_SLE\n",
      "name: CME Togo - id: CME_SUBNAT_TGO\n",
      "name: CME Tanzania - id: CME_SUBNAT_TZA\n",
      "name: CME Uganda - id: CME_SUBNAT_UGA\n",
      "name: CME Zambia - id: CME_SUBNAT_ZMB\n",
      "name: CME Zimbabwe - id: CME_SUBNAT_ZWE\n",
      "name: COVID-19 Baseline Indicators April 2020 - id: COVID\n",
      "name: Covid cases and deaths - id: COVID_CASES\n",
      "name: Demography - id: DM\n",
      "name: Early Childhood Development - id: ECD\n",
      "name: Economic - id: ECONOMIC\n",
      "name: Education - id: EDUCATION\n",
      "name: Functional difficulties - id: FUNCTIONAL_DIFF\n",
      "name: Gender - id: GENDER\n",
      "name: Cross-sector indicators - id: GLOBAL_DATAFLOW\n",
      "name: HIV/AIDS - id: HIV_AIDS\n",
      "name: Immunisation - id: IMMUNISATION\n",
      "name: Migration - id: MG\n",
      "name: Maternal, child and newborn health - id: MNCH\n",
      "name: Nutrition - id: NUTRITION\n",
      "name: Child Protection - id: PT\n",
      "name: Child Marriage - id: PT_CM\n",
      "name: Child Protection FGM - id: PT_FGM\n",
      "name: SDG Progress assessment - id: SDG_PROG_ASSESSMENT\n",
      "name: Social protection - id: SOC_PROTECTION\n",
      "name: WASH Healthcare Facility - id: WASH_HEALTHCARE_FACILITY\n",
      "name: WASH Households - id: WASH_HOUSEHOLDS\n",
      "name: WASH Household Menstrual Health - id: WASH_HOUSEHOLD_MH\n",
      "name: WASH Household subnational - id: WASH_HOUSEHOLD_SUBNAT\n",
      "name: WASH Schools - id: WASH_SCHOOLS\n",
      "name: Transition to Work - id: WT\n",
      "name: Afghanistan CO - id: AFG_CO\n",
      "name: Kenya CO - id: KENYA_CO\n",
      "name: UNICEF Situation Reports for COVID19 - id: DF_SITREP_COVID19\n",
      "name: CME historical values - id: CME_HISTORICAL\n",
      "name: Severe acute malnutrition - id: DF_EMOPS_SAM\n",
      "name: CME Subnational draft - id: CME_SUBNATIONAL_DRAFT\n",
      "name: CRAVE Consultation 2020 - id: CRAVE_2020_1\n",
      "name: Crave Consultation 2021 - id: CRAVE_2021\n",
      "name: Crave Consultation 2022 - id: CRAVE_2022\n",
      "name: Draft poverty - id: DRAFT_POV\n",
      "name: DRAFT PT Child Marriage - id: PT_CM\n",
      "name: Child Marriage - Subnational - id: PT_CM_SUBNATIONAL\n",
      "name: PT Child Marriage Subnat 2 - id: PT_CM_SUBNATIONAL2\n",
      "name: SDG consultation 2020 - id: SDG_CONSULT_2020_1\n",
      "name: SDG Consultation 2021 - id: SDG_CONSULT_2021\n",
      "name: SDG consultation 2022 - id: SDG_CONSULT_2022\n",
      "name: SOWC 2021 data snapshot - id: SOWC_DATA_SNAPSHOT_2021\n",
      "name: SOWC data snapshot 2023 - id: SOWC_DATA_SNAPSHOT_2023\n",
      "name: Latin America and the Caribbean - id: LACRO\n",
      "name: CME TEST Country profiles - id: CME_TEST_COUNTRY_PROFILES_DATA\n",
      "name: Test dataflow - id: CME_TEST_DATAFLOW\n",
      "name: DHIS Sample Dataset - id: DHIS_SAMPLE_DATASET\n",
      "name: DHIS Sample Dataset 2 - id: DHIS_SAMPLE_DATASET_2\n",
      "name: API test - id: DP_API_TEST\n",
      "name: UNPD Demography - id: UNPD_DEMOGRAPHY\n",
      "name: Projection Demography data mirrored from UNPD - id: UNPD_DM_PROJECTIONS\n",
      "name: ECCAS - id: WCARO_ECCAS\n",
      "name: Zimbabwe Country Office - id: ZIMBABWE_CO\n"
     ]
    }
   ],
   "source": [
    "# get the response and checking the status code \n",
    "dataflow_response = requests.get(url=endpoint+dataflow_endpoint, params=dataflow_params)\n",
    "print(dataflow_response.status_code)\n",
    "\n",
    "# converting the response into JSON format, printing the response \n",
    "# I arrived at the final printing format by following and trying out different keys  \n",
    "dataflows = dataflow_response.json()['data']['dataflows']\n",
    "for dflow in dataflows:\n",
    "    # getting the \"id\" will be necessary for the next API call\n",
    "    print(f\"name: {dflow['name']} - id: {dflow['id']}\")"
   ]
  },
  {
   "cell_type": "code",
   "execution_count": null,
   "metadata": {},
   "outputs": [],
   "source": []
  }
 ],
 "metadata": {
  "kernelspec": {
   "display_name": "venv",
   "language": "python",
   "name": "python3"
  },
  "language_info": {
   "codemirror_mode": {
    "name": "ipython",
    "version": 3
   },
   "file_extension": ".py",
   "mimetype": "text/x-python",
   "name": "python",
   "nbconvert_exporter": "python",
   "pygments_lexer": "ipython3",
   "version": "3.11.4"
  },
  "orig_nbformat": 4
 },
 "nbformat": 4,
 "nbformat_minor": 2
}
